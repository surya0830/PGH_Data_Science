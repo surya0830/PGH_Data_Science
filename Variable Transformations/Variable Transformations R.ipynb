{
 "cells": [
  {
   "cell_type": "markdown",
   "metadata": {},
   "source": [
    "# Variable Transformations: Why and How and Why not\n",
    "\n",
    "In short: statistical methods are designed with many assumptions, including that the data that is being used for estimation is normally distributed. However, this is often not the case. Bounded distributions, measurement errors, and different causal mechanisms can produce data that isn't normally distributed. Ask any complexity researcher, (social) network analyst, or systems analyst and they'll tell you about the 80/20 rule and power-law distributions. These kinds of distrubtions abound: the connectivity of websites on the internet, for example, adheres to the 80/20 rule.\n",
    "\n",
    "![Standard Normal vs. Power Law](normal_v_scale_free.png)\n",
    "\n",
    "Just to underline the point, let's look at a distribution of the ride times for the Healthy Ride data:"
   ]
  },
  {
   "cell_type": "code",
   "execution_count": 1,
   "metadata": {
    "collapsed": true
   },
   "outputs": [],
   "source": [
    "library(ggplot2)\n",
    "library(RColorBrewer)"
   ]
  },
  {
   "cell_type": "code",
   "execution_count": 2,
   "metadata": {},
   "outputs": [
    {
     "data": {
      "text/html": [
       "<table>\n",
       "<thead><tr><th scope=col>Trip.id</th><th scope=col>Starttime</th><th scope=col>Stoptime</th><th scope=col>Bikeid</th><th scope=col>Tripduration</th><th scope=col>From.station.id</th><th scope=col>From.station.name</th><th scope=col>To.station.id</th><th scope=col>To.station.name</th><th scope=col>Usertype</th><th scope=col>dur.hh</th></tr></thead>\n",
       "<tbody>\n",
       "\t<tr><td>25723960                                                                            </td><td>1/1/2017 8:28                                                                       </td><td>1/1/2017 8:30                                                                       </td><td>70478                                                                               </td><td> 110                                                                                </td><td>1043                                                                                </td><td><span style=white-space:pre-wrap>Coltart Ave &amp; Forbes Ave      </span>          </td><td>1044                                                                                </td><td><span style=white-space:pre-wrap>Zulema St &amp; Coltart Ave                 </span></td><td>Subscriber                                                                          </td><td>0.09166667                                                                          </td></tr>\n",
       "\t<tr><td>25724207                                          </td><td>1/1/2017 9:53                                     </td><td>1/1/2017 10:00                                    </td><td>70439                                             </td><td> 426                                              </td><td>1014                                              </td><td>Ridge Ave &amp; Brighton Rd (CCAC)                </td><td>1012                                              </td><td>North Shore Trail &amp; Fort Duquesne Bridge      </td><td><span style=white-space:pre-wrap>Customer  </span></td><td>0.35500000                                        </td></tr>\n",
       "\t<tr><td>25724297                                                                  </td><td>1/1/2017 10:21                                                            </td><td>1/1/2017 10:46                                                            </td><td>70440                                                                     </td><td>1498                                                                      </td><td>1019                                                                      </td><td><span style=white-space:pre-wrap>42nd St &amp; Butler St           </span></td><td>1012                                                                      </td><td>North Shore Trail &amp; Fort Duquesne Bridge                              </td><td>Subscriber                                                                </td><td>1.24833333                                                                </td></tr>\n",
       "\t<tr><td>25724391                                                                            </td><td>1/1/2017 11:03                                                                      </td><td>1/1/2017 11:30                                                                      </td><td>70002                                                                               </td><td>1581                                                                                </td><td>1019                                                                                </td><td><span style=white-space:pre-wrap>42nd St &amp; Butler St           </span>          </td><td>1013                                                                                </td><td><span style=white-space:pre-wrap>Isabella St &amp; Federal St (PNC Park)     </span></td><td><span style=white-space:pre-wrap>Customer  </span>                                  </td><td>1.31750000                                                                          </td></tr>\n",
       "\t<tr><td>25724479                                                                            </td><td>1/1/2017 11:43                                                                      </td><td>1/1/2017 12:09                                                                      </td><td>70024                                                                               </td><td>1563                                                                                </td><td>1018                                                                                </td><td><span style=white-space:pre-wrap>37th St &amp; Butler St           </span>          </td><td>1013                                                                                </td><td><span style=white-space:pre-wrap>Isabella St &amp; Federal St (PNC Park)     </span></td><td><span style=white-space:pre-wrap>Customer  </span>                                  </td><td>1.30250000                                                                          </td></tr>\n",
       "\t<tr><td>25724508                                                                            </td><td>1/1/2017 11:55                                                                      </td><td>1/1/2017 12:23                                                                      </td><td>70195                                                                               </td><td>1647                                                                                </td><td>1018                                                                                </td><td><span style=white-space:pre-wrap>37th St &amp; Butler St           </span>          </td><td>1013                                                                                </td><td><span style=white-space:pre-wrap>Isabella St &amp; Federal St (PNC Park)     </span></td><td><span style=white-space:pre-wrap>Customer  </span>                                  </td><td>1.37250000                                                                          </td></tr>\n",
       "</tbody>\n",
       "</table>\n"
      ],
      "text/latex": [
       "\\begin{tabular}{r|lllllllllll}\n",
       " Trip.id & Starttime & Stoptime & Bikeid & Tripduration & From.station.id & From.station.name & To.station.id & To.station.name & Usertype & dur.hh\\\\\n",
       "\\hline\n",
       "\t 25723960                                   & 1/1/2017 8:28                              & 1/1/2017 8:30                              & 70478                                      &  110                                       & 1043                                       & Coltart Ave \\& Forbes Ave                 & 1044                                       & Zulema St \\& Coltart Ave                  & Subscriber                                 & 0.09166667                                \\\\\n",
       "\t 25724207                                   & 1/1/2017 9:53                              & 1/1/2017 10:00                             & 70439                                      &  426                                       & 1014                                       & Ridge Ave \\& Brighton Rd (CCAC)           & 1012                                       & North Shore Trail \\& Fort Duquesne Bridge & Customer                                   & 0.35500000                                \\\\\n",
       "\t 25724297                                   & 1/1/2017 10:21                             & 1/1/2017 10:46                             & 70440                                      & 1498                                       & 1019                                       & 42nd St \\& Butler St                      & 1012                                       & North Shore Trail \\& Fort Duquesne Bridge & Subscriber                                 & 1.24833333                                \\\\\n",
       "\t 25724391                                   & 1/1/2017 11:03                             & 1/1/2017 11:30                             & 70002                                      & 1581                                       & 1019                                       & 42nd St \\& Butler St                      & 1013                                       & Isabella St \\& Federal St (PNC Park)      & Customer                                   & 1.31750000                                \\\\\n",
       "\t 25724479                                   & 1/1/2017 11:43                             & 1/1/2017 12:09                             & 70024                                      & 1563                                       & 1018                                       & 37th St \\& Butler St                      & 1013                                       & Isabella St \\& Federal St (PNC Park)      & Customer                                   & 1.30250000                                \\\\\n",
       "\t 25724508                                   & 1/1/2017 11:55                             & 1/1/2017 12:23                             & 70195                                      & 1647                                       & 1018                                       & 37th St \\& Butler St                      & 1013                                       & Isabella St \\& Federal St (PNC Park)      & Customer                                   & 1.37250000                                \\\\\n",
       "\\end{tabular}\n"
      ],
      "text/markdown": [
       "\n",
       "Trip.id | Starttime | Stoptime | Bikeid | Tripduration | From.station.id | From.station.name | To.station.id | To.station.name | Usertype | dur.hh | \n",
       "|---|---|---|---|---|---|\n",
       "| 25723960                                 | 1/1/2017 8:28                            | 1/1/2017 8:30                            | 70478                                    |  110                                     | 1043                                     | Coltart Ave & Forbes Ave                 | 1044                                     | Zulema St & Coltart Ave                  | Subscriber                               | 0.09166667                               | \n",
       "| 25724207                                 | 1/1/2017 9:53                            | 1/1/2017 10:00                           | 70439                                    |  426                                     | 1014                                     | Ridge Ave & Brighton Rd (CCAC)           | 1012                                     | North Shore Trail & Fort Duquesne Bridge | Customer                                 | 0.35500000                               | \n",
       "| 25724297                                 | 1/1/2017 10:21                           | 1/1/2017 10:46                           | 70440                                    | 1498                                     | 1019                                     | 42nd St & Butler St                      | 1012                                     | North Shore Trail & Fort Duquesne Bridge | Subscriber                               | 1.24833333                               | \n",
       "| 25724391                                 | 1/1/2017 11:03                           | 1/1/2017 11:30                           | 70002                                    | 1581                                     | 1019                                     | 42nd St & Butler St                      | 1013                                     | Isabella St & Federal St (PNC Park)      | Customer                                 | 1.31750000                               | \n",
       "| 25724479                                 | 1/1/2017 11:43                           | 1/1/2017 12:09                           | 70024                                    | 1563                                     | 1018                                     | 37th St & Butler St                      | 1013                                     | Isabella St & Federal St (PNC Park)      | Customer                                 | 1.30250000                               | \n",
       "| 25724508                                 | 1/1/2017 11:55                           | 1/1/2017 12:23                           | 70195                                    | 1647                                     | 1018                                     | 37th St & Butler St                      | 1013                                     | Isabella St & Federal St (PNC Park)      | Customer                                 | 1.37250000                               | \n",
       "\n",
       "\n"
      ],
      "text/plain": [
       "  Trip.id  Starttime      Stoptime       Bikeid Tripduration From.station.id\n",
       "1 25723960 1/1/2017 8:28  1/1/2017 8:30  70478   110         1043           \n",
       "2 25724207 1/1/2017 9:53  1/1/2017 10:00 70439   426         1014           \n",
       "3 25724297 1/1/2017 10:21 1/1/2017 10:46 70440  1498         1019           \n",
       "4 25724391 1/1/2017 11:03 1/1/2017 11:30 70002  1581         1019           \n",
       "5 25724479 1/1/2017 11:43 1/1/2017 12:09 70024  1563         1018           \n",
       "6 25724508 1/1/2017 11:55 1/1/2017 12:23 70195  1647         1018           \n",
       "  From.station.name              To.station.id\n",
       "1 Coltart Ave & Forbes Ave       1044         \n",
       "2 Ridge Ave & Brighton Rd (CCAC) 1012         \n",
       "3 42nd St & Butler St            1012         \n",
       "4 42nd St & Butler St            1013         \n",
       "5 37th St & Butler St            1013         \n",
       "6 37th St & Butler St            1013         \n",
       "  To.station.name                          Usertype   dur.hh    \n",
       "1 Zulema St & Coltart Ave                  Subscriber 0.09166667\n",
       "2 North Shore Trail & Fort Duquesne Bridge Customer   0.35500000\n",
       "3 North Shore Trail & Fort Duquesne Bridge Subscriber 1.24833333\n",
       "4 Isabella St & Federal St (PNC Park)      Customer   1.31750000\n",
       "5 Isabella St & Federal St (PNC Park)      Customer   1.30250000\n",
       "6 Isabella St & Federal St (PNC Park)      Customer   1.37250000"
      ]
     },
     "metadata": {},
     "output_type": "display_data"
    }
   ],
   "source": [
    "# load in data\n",
    "pghhr.2017.q1 <- read.csv(\"2017-Q1/Healthy Ride Rentals 2017-Q1.csv\")\n",
    "pghhr.2017.q2 <- read.csv(\"2017-Q2/Healthy Ride Rentals 2017-Q2.csv\")\n",
    "\n",
    "# combine the data sets\n",
    "rides = rbind(pghhr.2017.q1, pghhr.2017.q2)\n",
    "\n",
    "# measure trip lengths in half hour increments\n",
    "rides$dur.hh = rides$Tripduration / ( 20 * 60 )\n",
    "head(rides)"
   ]
  },
  {
   "cell_type": "code",
   "execution_count": 3,
   "metadata": {},
   "outputs": [
    {
     "name": "stderr",
     "output_type": "stream",
     "text": [
      "Warning message:\n",
      "\"Removed 526 rows containing non-finite values (stat_bin).\""
     ]
    },
    {
     "data": {},
     "metadata": {},
     "output_type": "display_data"
    },
    {
     "data": {
      "image/png": "[encoded data removed]",
      "text/plain": [
       "plot without title"
      ]
     },
     "metadata": {},
     "output_type": "display_data"
    }
   ],
   "source": [
    "# Histogram of the trip duration for all data\n",
    "\n",
    "qplot(dur.hh, data = rides, binwidth = 1.0,\n",
    "      geom = \"histogram\",\n",
    "      main = \"Distribution of Trip Durations PGH HealthyRide in 2017\",\n",
    "      xlab = \"Trip Durations (half hours)\",\n",
    "      ylab = \"Frequency\",\n",
    "      xlim = c(0,30),\n",
    "      fill = I('darkblue'))"
   ]
  },
  {
   "cell_type": "markdown",
   "metadata": {},
   "source": [
    "This is obviously skewed, and, at this level even looks like a power-law distribution. But, others might not be so obvious. How do we measure this?\n",
    "\n",
    "## Sample Skewnewss Measurement:\n",
    "\n",
    "$$ G_1 = \\Big(\\frac{n^2}{(n-1)(n-2)}\\Big) \\Big(\\frac{m_3}{s^3}\\Big) $$\n",
    "\n",
    "where:\n",
    "$$ m_3 = \\frac{\\sum_{i=1}^n(x_i - \\bar x)^3}{n} $$\n",
    "\n",
    "and\n",
    "$$ s^3 = \\Big(\\frac{\\sum_{i=1}^n(x_i - \\bar x)^2}{n - 1}\\Big)^{3/2} $$\n",
    "\n",
    "Source: [Wikipedia](https://en.wikipedia.org/wiki/Skewness)"
   ]
  },
  {
   "cell_type": "code",
   "execution_count": 4,
   "metadata": {},
   "outputs": [
    {
     "name": "stderr",
     "output_type": "stream",
     "text": [
      "Warning message:\n",
      "\"package 'e1071' was built under R version 3.4.2\""
     ]
    },
    {
     "data": {
      "text/html": [
       "7.86311746015206"
      ],
      "text/latex": [
       "7.86311746015206"
      ],
      "text/markdown": [
       "7.86311746015206"
      ],
      "text/plain": [
       "[1] 7.863117"
      ]
     },
     "metadata": {},
     "output_type": "display_data"
    }
   ],
   "source": [
    "# skewness in R\n",
    "\n",
    "# Note: there is no skewness function in the R base package\n",
    "# You'll need to install one. Two most popular:\n",
    "\n",
    "# install.packages('moments') ### further note: was not available for R 3.4.1...\n",
    "# install.packages('e1071')\n",
    "\n",
    "library(e1071)\n",
    "skewness(rides$dur.hh)"
   ]
  },
  {
   "cell_type": "markdown",
   "metadata": {},
   "source": [
    "So now what do we do? If a heavy skew prevents us from using the data, how can we fix it? And what does a heavy skew even look like? How do know what is and isn't heavily skewed?\n",
    "\n",
    "## Interpreting Skewness and Transformations\n",
    "\n",
    "| Skew Type | Measurement | Transformation | Transformation Computation |\n",
    "|:-----|:-----|:-----:|-----|\n",
    "| Moderate Positive | 0.5 < $sk \\le$ 1.0 | sqrt | $X_{new} = \\sqrt{X} $ |\n",
    "| Significant Postivie | 1.0 < $sk \\le$ 2.0 | $log_{10}$ | $X_{new} = log_{10}(X) $ |\n",
    "| Sig. Pos. w/ values < 0 | 1.0 < $sk \\le$ 2.0 | $log_{10}$ | $X_{new} = log_{10}(X + C) $ |\n",
    "| Severe Positive | $sk$ > 2.0 | inverse | $X_{new} = 1 / X $ |\n",
    "| Svr. Pos. w/ values < 0 | $sk$ > 2.0 | inverse | $X_{new} = 1 / (X + C) $ |\n",
    "| Moderate Negative | -1.0 $\\ge sk$ < -0.5 | reflect and sqrt | $X_{new} = \\sqrt{K - X} $ |\n",
    "| Significant Negative | -2.0 $ \\ge sk$ < -1.0 | reflect and $log_{10}$ | $X_{new} = log_{10}(K - X) $ |\n",
    "| Severe Negative | $sk$ < -2.0 | reflect and inverse | $X_{new} = 1 / (K - X) $ |\n",
    "\n",
    "**$C$**: a constant such that $C + X_{min} \\ge 1$\n",
    "\n",
    "**$K$**: a constant such that $K - X_{max} = 1$\n",
    "\n",
    "Source: Mertler & Vanatta, 3rd Edition (2005)"
   ]
  },
  {
   "cell_type": "markdown",
   "metadata": {},
   "source": [
    "## Some examples of the Transformations in Action\n",
    "\n",
    "### Positive Skew (Right Skew)\n",
    "\n",
    "#### Getting a skewed distribution"
   ]
  },
  {
   "cell_type": "code",
   "execution_count": 5,
   "metadata": {},
   "outputs": [
    {
     "name": "stderr",
     "output_type": "stream",
     "text": [
      "Loading required package: stats4\n",
      "\n",
      "Attaching package: 'sn'\n",
      "\n",
      "The following object is masked from 'package:stats':\n",
      "\n",
      "    sd\n",
      "\n"
     ]
    },
    {
     "name": "stdout",
     "output_type": "stream",
     "text": [
      "[1] \"skewness:  1.00962\"\n",
      "[1] \"Minimum value:  -0.00050201342893061\"\n"
     ]
    }
   ],
   "source": [
    "# need to install the 'sn' package:\n",
    "# install.packages('sn')\n",
    "\n",
    "library(sn)\n",
    "\n",
    "a <- 1000\n",
    "r.pos <- rsn(n = 10000, alpha = a)\n",
    "print(paste(\"skewness: \",\n",
    "            round(skewness(r.pos), 5)))\n",
    "print(paste(\"Minimum value: \",\n",
    "            min(r.pos)))"
   ]
  },
  {
   "cell_type": "code",
   "execution_count": 6,
   "metadata": {},
   "outputs": [
    {
     "data": {},
     "metadata": {},
     "output_type": "display_data"
    },
    {
     "data": {
      "image/png": "[encoded data removed]",
      "text/plain": [
       "plot without title"
      ]
     },
     "metadata": {},
     "output_type": "display_data"
    }
   ],
   "source": [
    "qplot(r.pos, geom = \"density\")"
   ]
  },
  {
   "cell_type": "markdown",
   "metadata": {},
   "source": [
    "#### Transforming"
   ]
  },
  {
   "cell_type": "code",
   "execution_count": 7,
   "metadata": {},
   "outputs": [
    {
     "name": "stdout",
     "output_type": "stream",
     "text": [
      "[1] \"C:  1.0005\"\n",
      "[1] \"skewness:  0.640962855481768\"\n"
     ]
    },
    {
     "data": {},
     "metadata": {},
     "output_type": "display_data"
    },
    {
     "data": {
      "image/png": "[encoded data removed]",
      "text/plain": [
       "plot without title"
      ]
     },
     "metadata": {},
     "output_type": "display_data"
    }
   ],
   "source": [
    "# Since we have a negative above, find C\n",
    "C <- 1 - min(r.pos)\n",
    "print(paste(\"C: \",\n",
    "            round(C,4)))\n",
    "\n",
    "# with C calculated, skewnewss was less than 1, therefore, use sqrt\n",
    "r.pos.trans <- sqrt(C + r.pos)\n",
    "\n",
    "# find new skewness to test change\n",
    "print(paste(\"skewness: \",\n",
    "            skewness(r.pos.trans)))\n",
    "\n",
    "# plot histogram to see the change\n",
    "qplot(r.pos.trans, geom = \"density\")"
   ]
  },
  {
   "cell_type": "code",
   "execution_count": 8,
   "metadata": {},
   "outputs": [
    {
     "name": "stdout",
     "output_type": "stream",
     "text": [
      "[1] \"skewness:  0.319581236223375\"\n"
     ]
    },
    {
     "data": {},
     "metadata": {},
     "output_type": "display_data"
    },
    {
     "data": {
      "image/png": "[encoded data removed]",
      "text/plain": [
       "plot without title"
      ]
     },
     "metadata": {},
     "output_type": "display_data"
    }
   ],
   "source": [
    "# we improved it, but not very much. Let's try the transformation for greater than 1\n",
    "\n",
    "# with C calculated, skewnewss was less than 1, therefore, use sqrt\n",
    "# use the same C\n",
    "r.pos.trans = log10(C + r.pos)\n",
    "\n",
    "# find new skewness to test change\n",
    "print(paste(\"skewness: \",\n",
    "            skewness(r.pos.trans)))\n",
    "\n",
    "# plot histogram to see the change\n",
    "qplot(r.pos.trans, geom = \"density\")"
   ]
  },
  {
   "cell_type": "markdown",
   "metadata": {},
   "source": [
    "### Negative Skew (Left Skew)\n",
    "\n",
    "#### Getting the distribution"
   ]
  },
  {
   "cell_type": "code",
   "execution_count": 9,
   "metadata": {},
   "outputs": [
    {
     "name": "stdout",
     "output_type": "stream",
     "text": [
      "[1] \"skewness:  -1.02028\"\n"
     ]
    },
    {
     "data": {},
     "metadata": {},
     "output_type": "display_data"
    },
    {
     "data": {
      "image/png": "[encoded data removed]",
      "text/plain": [
       "plot without title"
      ]
     },
     "metadata": {},
     "output_type": "display_data"
    }
   ],
   "source": [
    "a <- -1000\n",
    "r.neg <- rsn(n = 10000, alpha = a)\n",
    "print(paste(\"skewness: \",\n",
    "            round(skewness(r.neg), 5)))\n",
    "\n",
    "qplot(r.neg, geom = \"density\")"
   ]
  },
  {
   "cell_type": "code",
   "execution_count": 10,
   "metadata": {},
   "outputs": [
    {
     "name": "stdout",
     "output_type": "stream",
     "text": [
      "[1] \"K:  1.0008\"\n",
      "[1] \"skewness:  0.347606625517509\"\n"
     ]
    },
    {
     "data": {},
     "metadata": {},
     "output_type": "display_data"
    },
    {
     "data": {
      "image/png": "[encoded data removed]",
      "text/plain": [
       "plot without title"
      ]
     },
     "metadata": {},
     "output_type": "display_data"
    }
   ],
   "source": [
    "# We need K, since it's a part of every transformation for a negative skew\n",
    "K = 1 + max(r.neg)\n",
    "print(paste(\"K: \",\n",
    "            round(K, 4)))\n",
    "\n",
    "# with C calculated, skewnewss was less than 1, therefore, use sqrt\n",
    "r.neg.trans = log10(K - r.neg)\n",
    "\n",
    "# find new skewness to test change\n",
    "print(paste(\"skewness: \",\n",
    "            skewness(r.neg.trans)))\n",
    "\n",
    "# plot histogram to see the change\n",
    "qplot(r.neg.trans, geom = \"density\")"
   ]
  },
  {
   "cell_type": "markdown",
   "metadata": {},
   "source": [
    "So...still not perfect, but good enough to get on with. What's the problem?\n",
    "\n",
    "Answer: Interpretation.\n",
    "\n",
    "## Differentiation\n",
    "\n",
    "Normally, for a regression:\n",
    "$$ y = \\beta_0 + \\beta_1x + \\epsilon$$\n",
    "\n",
    "and\n",
    "$$ \\frac{dy}{dx} = \\beta_1 $$\n",
    "\n",
    "simple enough\n",
    "\n",
    "but now... say you have a moderate positive skew with no values below 0\n",
    "$$ y = \\beta_0 + \\beta_1 \\sqrt{x} + \\epsilon$$\n",
    "\n",
    "and now\n",
    "$$ \\frac{dy}{dx} = \\beta_1 \\frac{1}{2\\sqrt{x}}$$\n",
    "\n",
    "Mathematically, this isn't too terrible to use. But, it is difficult to explain and to present to someone else, especially someone who isn't mathematically inclined.\n",
    "\n",
    "So...updating our table from above:\n",
    "\n",
    "| Skew Type | Measurement | Transformation | Transformation Computation | Derivative Formula |\n",
    "|:-----|:-----|:-----:|-----|-----|\n",
    "| Moderate Positive | 0.5 < $sk \\le$ 1.0 | sqrt | $X_{new} = \\sqrt{X} $ | $d=1 / \\sqrt{x} $ |\n",
    "| Significant Postivie | 1.0 < $sk \\le$ 2.0 | $log_{10}$ | $X_{new} = log_{10}(X) $ | $d=1 / [x ln(10)] $ |\n",
    "| Sig. Pos. w/ values < 0 | 1.0 < $sk \\le$ 2.0 | $log_{10}$ | $X_{new} = log_{10}(X + C) $ | $d=\\frac{1}{(x+C)ln(10)} $ |\n",
    "| Severe Positive | $sk$ > 2.0 | inverse | $X_{new} = 1 / X $ | $d=-1/x^2 $ |\n",
    "| Svr. Pos. w/ values < 0 | $sk$ > 2.0 | inverse | $X_{new} = 1 / (X + C) $ | $d=\\frac{-1}{(X+C)^2}$|\n",
    "| Moderate Negative | -1.0 $\\ge sk$ < -0.5 | reflect and sqrt | $X_{new} = \\sqrt{K - X} $ | $d = \\frac{1}{\\sqrt{K - x}} $ |\n",
    "| Significant Negative | -2.0 $ \\ge sk$ < -1.0 | reflect and $log_{10}$ | $X_{new} = log_{10}(K - X) $ | $d=\\frac{1}{(K-x)ln(10)} $ |\n",
    "| Severe Negative | $sk$ < -2.0 | reflect and inverse | $X_{new} = 1 / (K - X) $ | $d=\\frac{-1}{(K-X)^2}$|\n",
    "\n",
    "\n",
    "\n",
    "\n",
    "## Zero Values\n",
    "\n",
    "There is one more point: behavior of many of the transformations require special behavior to deal with zero's (0) or negative numbers. This drives the linear shifts above ($K-x$ and $C+x$) that often make for the most complex derivatives. There is another route: a single function that can be applied regardless of signs and zeros, inverse hyperbolic functions, specifically:\n",
    "arcsinh(x):\n",
    "\n",
    "$$ x_{new} = arcsinh(x) = ln(x + \\sqrt{x^2 + 1}) $$\n",
    "\n",
    "With the derivative:\n",
    "\n",
    "$$ \\frac{dy}{dx} = \\frac{1}{\\sqrt{x^2 + 1}} $$\n",
    "\n",
    "So...what does that look like for both positive and negative skews?"
   ]
  },
  {
   "cell_type": "code",
   "execution_count": 11,
   "metadata": {},
   "outputs": [
    {
     "name": "stdout",
     "output_type": "stream",
     "text": [
      "[1] \"skewness:  0.394518918361076\"\n"
     ]
    },
    {
     "data": {},
     "metadata": {},
     "output_type": "display_data"
    },
    {
     "data": {
      "image/png": "[encoded data removed]",
      "text/plain": [
       "plot without title"
      ]
     },
     "metadata": {},
     "output_type": "display_data"
    }
   ],
   "source": [
    "r.pos.t.ash = asinh(r.pos)\n",
    "\n",
    "# find new skewness to test change\n",
    "print(paste(\"skewness: \",\n",
    "            skewness(r.pos.t.ash)))\n",
    "\n",
    "# plot histogram to see the change\n",
    "qplot(r.pos.t.ash, geom = \"density\")"
   ]
  },
  {
   "cell_type": "code",
   "execution_count": 12,
   "metadata": {},
   "outputs": [
    {
     "name": "stdout",
     "output_type": "stream",
     "text": [
      "[1] \"skewness:  -0.426011790523362\"\n"
     ]
    },
    {
     "data": {},
     "metadata": {},
     "output_type": "display_data"
    },
    {
     "data": {
      "image/png": "[encoded data removed]",
      "text/plain": [
       "plot without title"
      ]
     },
     "metadata": {},
     "output_type": "display_data"
    }
   ],
   "source": [
    "r.neg.t.ash = asinh(r.neg)\n",
    "\n",
    "# find new skewness to test change\n",
    "print(paste(\"skewness: \",\n",
    "            skewness(r.neg.t.ash)))\n",
    "\n",
    "# plot histogram to see the change\n",
    "qplot(r.neg.t.ash, geom = \"density\")"
   ]
  },
  {
   "cell_type": "markdown",
   "metadata": {},
   "source": [
    "This works too. It doesn't appear as effective as the other transformations, but does apply to every case. This too can be addressed, using a tuning parameter, $\\theta$, to adjust the effectiveness of the transformation:\n",
    "\n",
    "$$ x_{new} = \\frac{arcsinh(\\theta x)}{\\theta} $$\n",
    "\n",
    "With the derivative:\n",
    "\n",
    "$$ \\frac{dy}{dx} = \\frac{1}{\\sqrt{\\theta^2x^2 + 1}} $$\n",
    "\n",
    "Still, we gain computational effectiveness, but at the cost of easy interpretability.\n",
    "\n",
    "\n",
    "Who wants to explain these to the guys and gals in the C-suite?\n",
    "\n",
    "Want to read more? Go here: http://fmwww.bc.edu/repec/bocode/t/transint.html"
   ]
  }
 ],
 "metadata": {
  "kernelspec": {
   "display_name": "R",
   "language": "R",
   "name": "ir"
  },
  "language_info": {
   "codemirror_mode": "r",
   "file_extension": ".r",
   "mimetype": "text/x-r-source",
   "name": "R",
   "pygments_lexer": "r",
   "version": "3.4.1"
  }
 },
 "nbformat": 4,
 "nbformat_minor": 2
}
