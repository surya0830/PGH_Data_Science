{
 "cells": [
  {
   "cell_type": "markdown",
   "metadata": {},
   "source": [
    "# Variable Transformations: Why and How and Why not\n",
    "\n",
    "In short: statistical methods are designed with many assumptions, including that the data that is being used for estimation is normally distributed. However, this is often not the case. Bounded distributions, measurement errors, and different causal mechanisms can produce data that isn't normally distributed. Ask any complexity researcher, (social) network analyst, or systems analyst and they'll tell you about the 80/20 rule and power-law distributions. These kinds of distrubtions abound: the connectivity of websites on the internet, for example, adheres to the 80/20 rule.\n",
    "\n",
    "![Standard Normal vs. Power Law](normal_v_scale_free.png)\n",
    "\n",
    "Just to underline the point, let's look at a distribution of the ride times for the Healthy Ride data:"
   ]
  },
  {
   "cell_type": "code",
   "execution_count": 1,
   "metadata": {},
   "outputs": [],
   "source": [
    "# load pandas and matplotlib for dataframes and graphing\n",
    "import pandas as pd\n",
    "import matplotlib.pyplot as plt\n",
    "import numpy as np\n",
    "\n",
    "# make sure matplotlib graphs are displayed in the notebook\n",
    "%matplotlib inline\n",
    "\n",
    "# load in data\n",
    "pghhr_2017_q1 = pd.read_csv(\"2017-Q1\\Healthy Ride Rentals 2017-Q1.csv\")\n",
    "pghhr_2017_q2 = pd.read_csv(\"2017-Q2\\Healthy Ride Rentals 2017-Q2.csv\", encoding='latin-1')\n",
    "\n",
    "# combine the data sets\n",
    "rides = pd.concat([pghhr_2017_q1, pghhr_2017_q2])\n",
    "\n",
    "# measure trip lengths in half hour increments\n",
    "rides[\"dur_hh\"] = rides.Tripduration / ( 20 * 60 )"
   ]
  },
  {
   "cell_type": "code",
   "execution_count": 2,
   "metadata": {},
   "outputs": [
    {
     "data": {
      "image/png": "[encoded data removed]",
      "text/plain": [
       "<matplotlib.figure.Figure at 0x12378f38748>"
      ]
     },
     "metadata": {},
     "output_type": "display_data"
    }
   ],
   "source": [
    "# Histogram of the trip duration for all data\n",
    "\n",
    "binwidth = 1.0\n",
    "plt.hist(rides.dur_hh,\n",
    "        bins = np.arange(min(rides.dur_hh), max(rides.dur_hh) + binwidth, binwidth))\n",
    "plt.title(\"Distribution of Trip Durations PGH HealthyRide in 2017\")\n",
    "plt.xlabel(\"Trip Durations (half hours)\")\n",
    "plt.ylabel(\"Frequency\")\n",
    "plt.xlim(0,30)\n",
    "plt.show()"
   ]
  },
  {
   "cell_type": "markdown",
   "metadata": {},
   "source": [
    "This is obviously skewed, and, at this level even looks like a power-law distribution. But, others might not be so obvious. How do we measure this?\n",
    "\n",
    "## Sample Skewnewss Measurement:\n",
    "\n",
    "$$ G_1 = (\\frac{n^2}{(n-1)(n-2)}) (\\frac{m_3}{s^3}) $$\n",
    "\n",
    "where:\n",
    "$$ m_3 = \\frac{\\sum_{i=1}^n(x_i - \\bar x)^3}{n} $$\n",
    "\n",
    "and\n",
    "$$ s^3 = (\\frac{\\sum_{i=1}^n(x_i - \\bar x)^2}{n - 1})^{3/2} $$\n",
    "\n",
    "Source: [Wikipedia](https://en.wikipedia.org/wiki/Skewness)"
   ]
  },
  {
   "cell_type": "code",
   "execution_count": 3,
   "metadata": {},
   "outputs": [
    {
     "data": {
      "text/plain": [
       "7.863490169795181"
      ]
     },
     "execution_count": 3,
     "metadata": {},
     "output_type": "execute_result"
    }
   ],
   "source": [
    "# skewness in python:\n",
    "\n",
    "import scipy.stats as stats\n",
    "stats.skew(rides.dur_hh)"
   ]
  },
  {
   "cell_type": "markdown",
   "metadata": {},
   "source": [
    "So now what do we do? If a heavy skew prevents us from using the data, how can we fix it? And what does a heavy skew even look like? How do know what is and isn't heavily skewed?\n",
    "\n",
    "## Interpreting Skewness and Transformations\n",
    "\n",
    "| Skew Type | Measurement | Transformation | Transformation Computation |\n",
    "|:-----|:-----|:-----:|-----|\n",
    "| Moderate Positive | 0.5 < $sk \\le$ 1.0 | sqrt | $X_{new} = \\sqrt{X} $ |\n",
    "| Significant Postivie | 1.0 < $sk \\le$ 2.0 | $log_{10}$ | $X_{new} = log_{10}(X) $ |\n",
    "| Sig. Pos. w/ values < 0 | 1.0 < $sk \\le$ 2.0 | $log_{10}$ | $X_{new} = log_{10}(X + C) $ |\n",
    "| Severe Positive | $sk$ > 2.0 | inverse | $X_{new} = 1 / X $ |\n",
    "| Svr. Pos. w/ values < 0 | $sk$ > 2.0 | inverse | $X_{new} = 1 / (X + C) $ |\n",
    "| Moderate Negative | -1.0 $\\ge sk$ < -0.5 | reflect and sqrt | $X_{new} = \\sqrt{K - X} $ |\n",
    "| Significant Negative | -2.0 $ \\ge sk$ < -1.0 | reflect and $log_{10}$ | $X_{new} = log_{10}(K - X) $ |\n",
    "| Severe Negative | $sk$ < -2.0 | reflect and inverse | $X_{new} = 1 / (K - X) $ |\n",
    "\n",
    "**$C$**: a constant such that $C + X_{min} \\ge 1$\n",
    "\n",
    "**$K$**: a constant such that $K - X_{max} = 1$\n",
    "\n",
    "Source: Mertler & Vanatta, 3rd Edition (2005)"
   ]
  },
  {
   "cell_type": "markdown",
   "metadata": {},
   "source": [
    "## Some examples of the Transformations in Action\n",
    "\n",
    "### Positive Skew\n",
    "\n",
    "#### Getting a skewed distribution"
   ]
  },
  {
   "cell_type": "code",
   "execution_count": 4,
   "metadata": {},
   "outputs": [
    {
     "name": "stdout",
     "output_type": "stream",
     "text": [
      "skewness: 0.99645\n",
      "Minimum value: -0.00105509680704\n"
     ]
    }
   ],
   "source": [
    "# get a skewed dataset and confirm its skewness\n",
    "a = 1000\n",
    "r_pos = stats.skewnorm.rvs(a, size = 10000, random_state = 10)\n",
    "print(\"skewness: %.5f\" % stats.skew(r_pos))\n",
    "print(\"Minimum value: %s\" % min(r_pos))"
   ]
  },
  {
   "cell_type": "code",
   "execution_count": 5,
   "metadata": {},
   "outputs": [
    {
     "data": {
      "text/plain": [
       "[<matplotlib.lines.Line2D at 0x1237a981e48>]"
      ]
     },
     "execution_count": 5,
     "metadata": {},
     "output_type": "execute_result"
    },
    {
     "data": {
      "image/png": "[encoded data removed]",
      "text/plain": [
       "<matplotlib.figure.Figure at 0x1237a905940>"
      ]
     },
     "metadata": {},
     "output_type": "display_data"
    }
   ],
   "source": [
    "fig, ax = plt.subplots(1,1)\n",
    "x = np.linspace(stats.skewnorm.ppf(0.01, a),\n",
    "                stats.skewnorm.ppf(0.99, a), 100)\n",
    "ax.hist(r_pos, bins = 15, normed = True, histtype = 'stepfilled', alpha = 0.9)\n",
    "ax.plot(x, stats.skewnorm.pdf(x, a),\n",
    "        lw = 5, label = 'skewnorm pdf')"
   ]
  },
  {
   "cell_type": "markdown",
   "metadata": {},
   "source": [
    "#### Transforming"
   ]
  },
  {
   "cell_type": "code",
   "execution_count": 6,
   "metadata": {},
   "outputs": [
    {
     "name": "stdout",
     "output_type": "stream",
     "text": [
      "C: 1.0011\n",
      "skewness: 0.63782\n"
     ]
    },
    {
     "data": {
      "text/plain": [
       "(array([ 1.67201604,  1.71060102,  1.7607615 ,  1.71574569,  1.48037728,\n",
       "         1.38777331,  1.09324126,  0.74854872,  0.54276213,  0.35498187,\n",
       "         0.23408225,  0.08488697,  0.05144665,  0.01414783,  0.01028933]),\n",
       " array([ 1.        ,  1.07775045,  1.1555009 ,  1.23325135,  1.3110018 ,\n",
       "         1.38875225,  1.4665027 ,  1.54425315,  1.6220036 ,  1.69975405,\n",
       "         1.7775045 ,  1.85525495,  1.9330054 ,  2.01075585,  2.08850631,\n",
       "         2.16625676]),\n",
       " <a list of 1 Patch objects>)"
      ]
     },
     "execution_count": 6,
     "metadata": {},
     "output_type": "execute_result"
    },
    {
     "data": {
      "image/png": "[encoded data removed]",
      "text/plain": [
       "<matplotlib.figure.Figure at 0x1237a8e5c18>"
      ]
     },
     "metadata": {},
     "output_type": "display_data"
    }
   ],
   "source": [
    "# Since we have a negative above, find C\n",
    "C = 1 - min(r_pos)\n",
    "print(\"C: %.4f\" % C)\n",
    "\n",
    "# with C calculated, skewnewss was less than 1, therefore, use sqrt\n",
    "r_pos_trans = np.sqrt(C + r_pos)\n",
    "\n",
    "# find new skewness to test change\n",
    "print(\"skewness: %.5f\" % stats.skew(r_pos_trans))\n",
    "\n",
    "# plot histogram to see the change\n",
    "fig, ax = plt.subplots(1,1)\n",
    "ax.hist(r_pos_trans, bins = 15, normed = True, histtype = 'stepfilled', alpha = 0.9)"
   ]
  },
  {
   "cell_type": "code",
   "execution_count": 7,
   "metadata": {},
   "outputs": [
    {
     "name": "stdout",
     "output_type": "stream",
     "text": [
      "skewness: 0.32150\n"
     ]
    },
    {
     "data": {
      "text/plain": [
       "(array([ 1.93247188,  2.1268361 ,  2.26311447,  2.45077648,  2.50662827,\n",
       "         2.44854241,  2.19609232,  2.0955591 ,  1.61746779,  1.12150391,\n",
       "         0.81320204,  0.49372981,  0.17649165,  0.07372436,  0.02457479]),\n",
       " array([ -4.82163733e-17,   4.47613240e-02,   8.95226480e-02,\n",
       "          1.34283972e-01,   1.79045296e-01,   2.23806620e-01,\n",
       "          2.68567944e-01,   3.13329268e-01,   3.58090592e-01,\n",
       "          4.02851916e-01,   4.47613240e-01,   4.92374564e-01,\n",
       "          5.37135888e-01,   5.81897212e-01,   6.26658536e-01,\n",
       "          6.71419860e-01]),\n",
       " <a list of 1 Patch objects>)"
      ]
     },
     "execution_count": 7,
     "metadata": {},
     "output_type": "execute_result"
    },
    {
     "data": {
      "image/png": "[encoded data removed]",
      "text/plain": [
       "<matplotlib.figure.Figure at 0x1237a905390>"
      ]
     },
     "metadata": {},
     "output_type": "display_data"
    }
   ],
   "source": [
    "# we improved it, but not very much. Let's try the transformation for greater than 1\n",
    "\n",
    "# with C calculated, skewnewss was less than 1, therefore, use sqrt\n",
    "# use the same C\n",
    "r_pos_trans = np.log10(C + r_pos)\n",
    "\n",
    "# find new skewness to test change\n",
    "print(\"skewness: %.5f\" % stats.skew(r_pos_trans))\n",
    "\n",
    "# plot histogram to see the change\n",
    "fig, ax = plt.subplots(1,1)\n",
    "ax.hist(r_pos_trans, bins = 15, normed = True, histtype = 'stepfilled', alpha = 0.9)"
   ]
  },
  {
   "cell_type": "markdown",
   "metadata": {},
   "source": [
    "### Negative Skew\n",
    "\n",
    "#### Getting the distribution"
   ]
  },
  {
   "cell_type": "code",
   "execution_count": 8,
   "metadata": {},
   "outputs": [
    {
     "name": "stdout",
     "output_type": "stream",
     "text": [
      "skewness: -0.99676\n"
     ]
    },
    {
     "data": {
      "text/plain": [
       "[<matplotlib.lines.Line2D at 0x12379004c18>]"
      ]
     },
     "execution_count": 8,
     "metadata": {},
     "output_type": "execute_result"
    },
    {
     "data": {
      "image/png": "[encoded data removed]",
      "text/plain": [
       "<matplotlib.figure.Figure at 0x1237ab5ccf8>"
      ]
     },
     "metadata": {},
     "output_type": "display_data"
    }
   ],
   "source": [
    "# get a skewed dataset and confirm its skewness\n",
    "a = -1000\n",
    "r_neg = stats.skewnorm.rvs(a, size = 10000, random_state = 10)\n",
    "print(\"skewness: %.5f\" % stats.skew(r_neg))\n",
    "\n",
    "fig, ax = plt.subplots(1,1)\n",
    "x = np.linspace(stats.skewnorm.ppf(0.01, a),\n",
    "                stats.skewnorm.ppf(0.99, a), 100)\n",
    "ax.hist(r_neg, bins = 15, normed = True, histtype = 'stepfilled', alpha = 0.9)\n",
    "ax.plot(x, stats.skewnorm.pdf(x, a),\n",
    "        lw = 5, label = 'skewnorm pdf')"
   ]
  },
  {
   "cell_type": "markdown",
   "metadata": {},
   "source": [
    "#### Transforming"
   ]
  },
  {
   "cell_type": "code",
   "execution_count": 9,
   "metadata": {},
   "outputs": [
    {
     "name": "stdout",
     "output_type": "stream",
     "text": [
      "K: 1.0015\n",
      "skewness: 0.32178\n"
     ]
    },
    {
     "data": {
      "text/plain": [
       "(array([ 1.91902911,  2.14019778,  2.26530328,  2.44179141,  2.51104624,\n",
       "         2.44625946,  2.20498456,  2.07987905,  1.62190353,  1.12148151,\n",
       "         0.8221219 ,  0.49148592,  0.17648813,  0.07372289,  0.0245743 ]),\n",
       " array([ -4.82163733e-17,   4.47622183e-02,   8.95244365e-02,\n",
       "          1.34286655e-01,   1.79048873e-01,   2.23811091e-01,\n",
       "          2.68573310e-01,   3.13335528e-01,   3.58097746e-01,\n",
       "          4.02859964e-01,   4.47622183e-01,   4.92384401e-01,\n",
       "          5.37146619e-01,   5.81908837e-01,   6.26671056e-01,\n",
       "          6.71433274e-01]),\n",
       " <a list of 1 Patch objects>)"
      ]
     },
     "execution_count": 9,
     "metadata": {},
     "output_type": "execute_result"
    },
    {
     "data": {
      "image/png": "[encoded data removed]",
      "text/plain": [
       "<matplotlib.figure.Figure at 0x1237a905240>"
      ]
     },
     "metadata": {},
     "output_type": "display_data"
    }
   ],
   "source": [
    "# Since we have a negative above, find C\n",
    "K = 1 + max(r_neg)\n",
    "print(\"K: %.4f\" % K)\n",
    "\n",
    "# with C calculated, skewnewss was less than 1, therefore, use sqrt\n",
    "r_neg_trans = np.log10(K - r_neg)\n",
    "\n",
    "# find new skewness to test change\n",
    "print(\"skewness: %.5f\" % stats.skew(r_neg_trans))\n",
    "\n",
    "# plot histogram to see the change\n",
    "fig, ax = plt.subplots(1,1)\n",
    "ax.hist(r_neg_trans, bins = 15, normed = True, histtype = 'stepfilled', alpha = 0.9)"
   ]
  },
  {
   "cell_type": "markdown",
   "metadata": {},
   "source": [
    "So...still not perfect, but good enough to get on with. What's the problem?\n",
    "\n",
    "Answer: Interpretation.\n",
    "\n",
    "## Differentiation\n",
    "\n",
    "Normally, for a regression:\n",
    "$$ y = \\beta_0 + \\beta_1x + \\epsilon$$\n",
    "\n",
    "and\n",
    "$$ \\frac{dy}{dx} = \\beta_1 $$\n",
    "\n",
    "simple enough\n",
    "\n",
    "but now... say you have a moderate positive skew with no values below 0\n",
    "$$ y = \\beta_0 + \\beta_1 \\sqrt{x} + \\epsilon$$\n",
    "\n",
    "and now\n",
    "$$ \\frac{dy}{dx} = \\beta_1 \\frac{1}{2\\sqrt{x}}$$\n",
    "\n",
    "Mathematically, this isn't too terrible to use. But, it is difficult to explain and to present to someone else, especially someone who isn't mathematically inclined.\n",
    "\n",
    "So...updating our table from above:\n",
    "\n",
    "| Skew Type | Measurement | Transformation | Transformation Computation | Derivative Formula |\n",
    "|:-----|:-----|:-----:|-----|-----|\n",
    "| Moderate Positive | 0.5 < $sk \\le$ 1.0 | sqrt | $X_{new} = \\sqrt{X} $ | $d=1 / \\sqrt{x} $ |\n",
    "| Significant Postivie | 1.0 < $sk \\le$ 2.0 | $log_{10}$ | $X_{new} = log_{10}(X) $ | $d=1 / [x ln(10)] $ |\n",
    "| Sig. Pos. w/ values < 0 | 1.0 < $sk \\le$ 2.0 | $log_{10}$ | $X_{new} = log_{10}(X + C) $ | $d=\\frac{1}{(x+C)ln(10)} $ |\n",
    "| Severe Positive | $sk$ > 2.0 | inverse | $X_{new} = 1 / X $ | $d=-1/x^2 $ |\n",
    "| Svr. Pos. w/ values < 0 | $sk$ > 2.0 | inverse | $X_{new} = 1 / (X + C) $ | $d=\\frac{-1}{(X+C)^2}$|\n",
    "| Moderate Negative | -1.0 $\\ge sk$ < -0.5 | reflect and sqrt | $X_{new} = \\sqrt{K - X} $ | $d = \\frac{1}{\\sqrt{K - x}} $ |\n",
    "| Significant Negative | -2.0 $ \\ge sk$ < -1.0 | reflect and $log_{10}$ | $X_{new} = log_{10}(K - X) $ | $d=\\frac{1}{(K-x)ln(10)} $ |\n",
    "| Severe Negative | $sk$ < -2.0 | reflect and inverse | $X_{new} = 1 / (K - X) $ | $d=\\frac{-1}{(K-X)^2}$|\n",
    "\n",
    "Who wants to explain these to the guys and gals in the C-suite?"
   ]
  },
  {
   "cell_type": "code",
   "execution_count": null,
   "metadata": {
    "collapsed": true
   },
   "outputs": [],
   "source": []
  },
  {
   "cell_type": "code",
   "execution_count": null,
   "metadata": {
    "collapsed": true
   },
   "outputs": [],
   "source": []
  },
  {
   "cell_type": "code",
   "execution_count": null,
   "metadata": {
    "collapsed": true
   },
   "outputs": [],
   "source": []
  },
  {
   "cell_type": "code",
   "execution_count": null,
   "metadata": {
    "collapsed": true
   },
   "outputs": [],
   "source": []
  },
  {
   "cell_type": "code",
   "execution_count": null,
   "metadata": {
    "collapsed": true
   },
   "outputs": [],
   "source": []
  },
  {
   "cell_type": "code",
   "execution_count": null,
   "metadata": {
    "collapsed": true
   },
   "outputs": [],
   "source": []
  },
  {
   "cell_type": "code",
   "execution_count": null,
   "metadata": {
    "collapsed": true
   },
   "outputs": [],
   "source": []
  },
  {
   "cell_type": "code",
   "execution_count": null,
   "metadata": {
    "collapsed": true
   },
   "outputs": [],
   "source": []
  },
  {
   "cell_type": "code",
   "execution_count": null,
   "metadata": {
    "collapsed": true
   },
   "outputs": [],
   "source": []
  },
  {
   "cell_type": "code",
   "execution_count": null,
   "metadata": {
    "collapsed": true
   },
   "outputs": [],
   "source": []
  },
  {
   "cell_type": "code",
   "execution_count": null,
   "metadata": {
    "collapsed": true
   },
   "outputs": [],
   "source": []
  },
  {
   "cell_type": "code",
   "execution_count": null,
   "metadata": {
    "collapsed": true
   },
   "outputs": [],
   "source": []
  },
  {
   "cell_type": "code",
   "execution_count": null,
   "metadata": {
    "collapsed": true
   },
   "outputs": [],
   "source": []
  },
  {
   "cell_type": "code",
   "execution_count": null,
   "metadata": {
    "collapsed": true
   },
   "outputs": [],
   "source": []
  },
  {
   "cell_type": "code",
   "execution_count": null,
   "metadata": {
    "collapsed": true
   },
   "outputs": [],
   "source": []
  },
  {
   "cell_type": "code",
   "execution_count": null,
   "metadata": {
    "collapsed": true
   },
   "outputs": [],
   "source": []
  },
  {
   "cell_type": "code",
   "execution_count": null,
   "metadata": {
    "collapsed": true
   },
   "outputs": [],
   "source": []
  },
  {
   "cell_type": "code",
   "execution_count": null,
   "metadata": {
    "collapsed": true
   },
   "outputs": [],
   "source": []
  }
 ],
 "metadata": {
  "kernelspec": {
   "display_name": "Python 3",
   "language": "python",
   "name": "python3"
  },
  "language_info": {
   "codemirror_mode": {
    "name": "ipython",
    "version": 3
   },
   "file_extension": ".py",
   "mimetype": "text/x-python",
   "name": "python",
   "nbconvert_exporter": "python",
   "pygments_lexer": "ipython3",
   "version": "3.6.1"
  }
 },
 "nbformat": 4,
 "nbformat_minor": 2
}
